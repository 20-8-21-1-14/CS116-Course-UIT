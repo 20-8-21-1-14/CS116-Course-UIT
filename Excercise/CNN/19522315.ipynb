{
  "nbformat": 4,
  "nbformat_minor": 0,
  "metadata": {
    "colab": {
      "provenance": [],
      "toc_visible": true
    },
    "kernelspec": {
      "name": "python3",
      "display_name": "Python 3"
    },
    "accelerator": "GPU"
  },
  "cells": [
    {
      "cell_type": "markdown",
      "source": [
        "Ho va Ten: Ly Hoang Thuan\n",
        "MSSV : 19522315"
      ],
      "metadata": {
        "id": "VUDH7EOywb3s"
      }
    },
    {
      "cell_type": "code",
      "metadata": {
        "id": "mQ4AkwUDHajp"
      },
      "source": [
        "from keras.layers import Input, Dense, Conv2D, MaxPooling2D, Flatten\n",
        "from keras.models import load_model, Model\n",
        "import tensorflow as tf\n",
        "import keras\n",
        "\n",
        "class LeNetCNN:\n",
        "  # constructor\n",
        "  def __init__(self):\n",
        "    self.model = None\n",
        "\n",
        "  # Define structure of the CNN\n",
        "  def build(self, input_dim):\n",
        "    input = Input(shape = input_dim) # X dau vao cua minh\n",
        "    C1 = Conv2D(6, (3, 3), padding='same', activation='relu')(input)\n",
        "    S2 = MaxPooling2D(pool_size=(2, 2), padding=\"same\")(C1)\n",
        "    C3 = Conv2D(16, (3, 3), padding='same', activation='relu')(S2)\n",
        "    S4 = MaxPooling2D(pool_size=(2, 2), padding=\"same\")(C3)\n",
        "\n",
        "    flat = Flatten()(S4)\n",
        "    # These like ANN\n",
        "    F5 = Dense(120, activation='relu', use_bias=True)(flat)\n",
        "    F6 = Dense(84, activation='relu', use_bias=True)(F5)\n",
        "    output = Dense(10, activation='softmax', use_bias=True)(F6) # y~ output\n",
        "    self.model = Model(input, output)\n",
        "  \n",
        "  # Train the model\n",
        "  def train(self, x_train, y_train, x_val, y_val): # x_train chinh la X, y_train chinh la ground-truth\n",
        "    sgd = keras.optimizers.SGD(learning_rate=0.01)\n",
        "    adam = keras.optimizers.Adam(learning_rate=0.01)\n",
        "    self.model.compile(optimizer=sgd, loss = 'categorical_crossentropy', metrics=['accuracy'])\n",
        "    self.model.fit(x_train, y_train, validation_data = (x_val, y_val), epochs = 50, batch_size = 128)\n",
        "  \n",
        "  # Load model from file\n",
        "  def load(self, model_file):\n",
        "    self.model = load_model(model_file)\n",
        "  \n",
        "  # save the trained model\n",
        "  def save(self, model_file):\n",
        "    self.model.save(model_file)\n",
        "  \n",
        "  # Show the architecture of the model\n",
        "  def summary(self):\n",
        "    self.model.summary()\n",
        "\n",
        "  # Test the model with a given input\n",
        "  def predict(self, x_test):\n",
        "    return self.model.predict(x_test)\n",
        "\n"
      ],
      "execution_count": 1,
      "outputs": []
    },
    {
      "cell_type": "code",
      "metadata": {
        "id": "U8lfBN3Y4U3G"
      },
      "source": [
        "from keras.layers import Input, Dense, Conv2D, MaxPooling2D, Flatten, Add, AveragePooling2D\n",
        "from keras.models import load_model, Model\n",
        "#from keras.objectives import categorical_crossentropy\n",
        "\n",
        "class DeltaCNN:\n",
        "  # constructor\n",
        "  def __init__(self):\n",
        "    self.model = None\n",
        "\n",
        "  # Define structure of the CNN\n",
        "  def build(self, input_dim):\n",
        "    input = Input(shape = input_dim) # X dau vao cua minh\n",
        "    \n",
        "    C1 = Conv2D(8, (3, 3), padding='same', activation='relu')(input)\n",
        "    S2 = MaxPooling2D(pool_size=(2, 2), padding=\"same\")(C1)\n",
        "\n",
        "    C3 = Conv2D(8, (3, 3), padding='same', activation='relu')(S2)\n",
        "    C4 = Conv2D(8, (3, 3), padding='same', activation='relu')(C3)\n",
        "    C5 = Add()([C4, S2])\n",
        "\n",
        "    C6 = Conv2D(16, (3, 3), strides = (2,2), padding='same', activation='relu')(C5)\n",
        "    C7 = Conv2D(16, (3, 3), padding='same', activation='relu')(C6)\n",
        "    C8 = Conv2D(16, (3, 3), padding='same', activation='relu')(C7)\n",
        "    C9 = Add()([C8, C6])\n",
        "\n",
        "    P10 = AveragePooling2D()(C9)\n",
        "    flat = Flatten()(P10)\n",
        "    F0 = Dense(400, use_bias=True)(flat)\n",
        "    output = Dense(10, activation='softmax', use_bias=True)(F0)\n",
        "\n",
        "    self.model = Model(input, output)\n",
        "    self.model.compile(optimizer=\"adam\", loss = 'categorical_crossentropy', metrics=['accuracy'])\n",
        "  \n",
        "  # Train the model\n",
        "  def train(self, x_train, y_train, x_val, y_val): # x_train chinh la X, y_train chinh la ground-truthewedsdAQ  a QA\n",
        "    self.model.fit(x_train, y_train, validation_data = (x_val, y_val), epochs = 50, batch_size = 128)\n",
        "  \n",
        "  # Load model from file\n",
        "  def load(self, model_file):\n",
        "    self.model = load_model(model_file)\n",
        "  \n",
        "  # save the trained model\n",
        "  def save(self, model_file):\n",
        "    self.model.save(model_file)\n",
        "  \n",
        "  # Show the architecture of the model\n",
        "  def summary(self):\n",
        "    self.model.summary()\n",
        "\n",
        "  # Test the model with a given input\n",
        "  def predict(self, x_test):\n",
        "    return self.model.predict(x_test)"
      ],
      "execution_count": 2,
      "outputs": []
    },
    {
      "cell_type": "code",
      "metadata": {
        "id": "QOwcpLbYHno7",
        "colab": {
          "base_uri": "https://localhost:8080/"
        },
        "outputId": "2f495086-fe55-4e52-cba0-bd94e6daa56a"
      },
      "source": [
        "from keras.datasets import mnist\n",
        "\n",
        "(x_train, y_train), (x_test, y_test) = mnist.load_data()\n",
        "\n",
        "print(x_train.shape)\n",
        "print(y_train.shape)\n",
        "print(x_test.shape)\n",
        "print(y_test.shape)\n"
      ],
      "execution_count": 3,
      "outputs": [
        {
          "output_type": "stream",
          "name": "stdout",
          "text": [
            "Downloading data from https://storage.googleapis.com/tensorflow/tf-keras-datasets/mnist.npz\n",
            "11490434/11490434 [==============================] - 1s 0us/step\n",
            "(60000, 28, 28)\n",
            "(60000,)\n",
            "(10000, 28, 28)\n",
            "(10000,)\n"
          ]
        }
      ]
    },
    {
      "cell_type": "code",
      "source": [
        "from collections import Counter"
      ],
      "metadata": {
        "id": "KdvXyUKQqzSA"
      },
      "execution_count": 4,
      "outputs": []
    },
    {
      "cell_type": "code",
      "source": [
        "counter = Counter(y_train).most_common(3)"
      ],
      "metadata": {
        "id": "xy9p35J9q5zj"
      },
      "execution_count": 5,
      "outputs": []
    },
    {
      "cell_type": "code",
      "source": [
        "counter"
      ],
      "metadata": {
        "colab": {
          "base_uri": "https://localhost:8080/"
        },
        "id": "PttSwCSOs8Fr",
        "outputId": "3fbd20b4-f68d-494b-e7fd-20965ec166e3"
      },
      "execution_count": 6,
      "outputs": [
        {
          "output_type": "execute_result",
          "data": {
            "text/plain": [
              "[(1, 6742), (7, 6265), (3, 6131)]"
            ]
          },
          "metadata": {},
          "execution_count": 6
        }
      ]
    },
    {
      "cell_type": "code",
      "metadata": {
        "id": "hjbM2ZrWON53"
      },
      "source": [
        "import numpy as np\n",
        "\n",
        "def onehot(y):\n",
        "  oh = np.zeros((y.shape[0], 10))\n",
        "  for i in range(y.shape[0]):\n",
        "    oh[i, int(y[i])]=1\n",
        "  return oh"
      ],
      "execution_count": 7,
      "outputs": []
    },
    {
      "cell_type": "code",
      "metadata": {
        "id": "XSRZ6AMNWWQg"
      },
      "source": [
        "import numpy as np\n",
        "def norm_zero_one(x_train):\n",
        "  min_val = np.min(x_train)\n",
        "  max_val = np.max(x_train)\n",
        "  x_train_norm = (x_train-min_val)/(max_val-min_val)\n",
        "  return x_train_norm\n",
        "\n",
        "def norm_normal_dist(x_train):\n",
        "  mean_val = np.mean(x_train)\n",
        "  std_val = np.std(x_train)\n",
        "  x_train_norm = (x_train-mean_val)/std_val\n",
        "  return x_train_norm"
      ],
      "execution_count": 8,
      "outputs": []
    },
    {
      "cell_type": "code",
      "metadata": {
        "id": "-HXJByzMMyWq"
      },
      "source": [
        "from sklearn import preprocessing\n",
        "import numpy as np\n",
        "\n",
        "#enc = preprocessing.OneHotEncoder()\n",
        "\n",
        "#enc.fit(y_train)\n",
        "\n",
        "#y_train_oh = enc.transform(y_train).toarray()\n",
        "#y_train_oh.shape\n",
        "y_train_oh = onehot(y_train)\n",
        "y_train_oh.shape\n",
        "\n",
        "y_test_oh = onehot(y_test)\n",
        "y_test_oh.shape\n",
        "\n",
        "x_train_norm = x_train / 255.0\n",
        "x_test_norm = x_test / 255.0\n",
        "\n",
        "#x_train_norm = x_train_norm[:,:,:, np.newaxis] # Optional: Convert 60000x28x28 -> 60000x28x28x1\n",
        "#x_test_norm = x_test_norm[:,:,:, np.newaxis] # Optional: Convert 60000x28x28 -> 60000x28x28x1"
      ],
      "execution_count": 9,
      "outputs": []
    },
    {
      "cell_type": "code",
      "metadata": {
        "colab": {
          "base_uri": "https://localhost:8080/"
        },
        "id": "vjd-0_h89KFL",
        "outputId": "50a39b3e-ea7f-4f88-cddf-9a076ca56b5e"
      },
      "source": [
        "x_train_norm.shape"
      ],
      "execution_count": 10,
      "outputs": [
        {
          "output_type": "execute_result",
          "data": {
            "text/plain": [
              "(60000, 28, 28)"
            ]
          },
          "metadata": {},
          "execution_count": 10
        }
      ]
    },
    {
      "cell_type": "code",
      "metadata": {
        "id": "J8JX9Eeauvmi",
        "colab": {
          "base_uri": "https://localhost:8080/"
        },
        "outputId": "0b1f8624-78c3-4032-ef1c-6da709a93095"
      },
      "source": [
        "cnn = DeltaCNN()\n",
        "cnn.build((28, 28, 1))\n",
        "cnn.summary()\n",
        "cnn.train(x_train_norm, y_train_oh, x_test_norm, y_test_oh)"
      ],
      "execution_count": 11,
      "outputs": [
        {
          "output_type": "stream",
          "name": "stdout",
          "text": [
            "Model: \"model\"\n",
            "__________________________________________________________________________________________________\n",
            " Layer (type)                   Output Shape         Param #     Connected to                     \n",
            "==================================================================================================\n",
            " input_1 (InputLayer)           [(None, 28, 28, 1)]  0           []                               \n",
            "                                                                                                  \n",
            " conv2d (Conv2D)                (None, 28, 28, 8)    80          ['input_1[0][0]']                \n",
            "                                                                                                  \n",
            " max_pooling2d (MaxPooling2D)   (None, 14, 14, 8)    0           ['conv2d[0][0]']                 \n",
            "                                                                                                  \n",
            " conv2d_1 (Conv2D)              (None, 14, 14, 8)    584         ['max_pooling2d[0][0]']          \n",
            "                                                                                                  \n",
            " conv2d_2 (Conv2D)              (None, 14, 14, 8)    584         ['conv2d_1[0][0]']               \n",
            "                                                                                                  \n",
            " add (Add)                      (None, 14, 14, 8)    0           ['conv2d_2[0][0]',               \n",
            "                                                                  'max_pooling2d[0][0]']          \n",
            "                                                                                                  \n",
            " conv2d_3 (Conv2D)              (None, 7, 7, 16)     1168        ['add[0][0]']                    \n",
            "                                                                                                  \n",
            " conv2d_4 (Conv2D)              (None, 7, 7, 16)     2320        ['conv2d_3[0][0]']               \n",
            "                                                                                                  \n",
            " conv2d_5 (Conv2D)              (None, 7, 7, 16)     2320        ['conv2d_4[0][0]']               \n",
            "                                                                                                  \n",
            " add_1 (Add)                    (None, 7, 7, 16)     0           ['conv2d_5[0][0]',               \n",
            "                                                                  'conv2d_3[0][0]']               \n",
            "                                                                                                  \n",
            " average_pooling2d (AveragePool  (None, 3, 3, 16)    0           ['add_1[0][0]']                  \n",
            " ing2D)                                                                                           \n",
            "                                                                                                  \n",
            " flatten (Flatten)              (None, 144)          0           ['average_pooling2d[0][0]']      \n",
            "                                                                                                  \n",
            " dense (Dense)                  (None, 400)          58000       ['flatten[0][0]']                \n",
            "                                                                                                  \n",
            " dense_1 (Dense)                (None, 10)           4010        ['dense[0][0]']                  \n",
            "                                                                                                  \n",
            "==================================================================================================\n",
            "Total params: 69,066\n",
            "Trainable params: 69,066\n",
            "Non-trainable params: 0\n",
            "__________________________________________________________________________________________________\n",
            "Epoch 1/50\n",
            "469/469 [==============================] - 12s 6ms/step - loss: 0.3351 - accuracy: 0.8957 - val_loss: 0.1026 - val_accuracy: 0.9675\n",
            "Epoch 2/50\n",
            "469/469 [==============================] - 3s 5ms/step - loss: 0.0940 - accuracy: 0.9715 - val_loss: 0.0793 - val_accuracy: 0.9745\n",
            "Epoch 3/50\n",
            "469/469 [==============================] - 3s 6ms/step - loss: 0.0665 - accuracy: 0.9795 - val_loss: 0.0547 - val_accuracy: 0.9836\n",
            "Epoch 4/50\n",
            "469/469 [==============================] - 3s 5ms/step - loss: 0.0534 - accuracy: 0.9837 - val_loss: 0.0466 - val_accuracy: 0.9858\n",
            "Epoch 5/50\n",
            "469/469 [==============================] - 2s 5ms/step - loss: 0.0465 - accuracy: 0.9853 - val_loss: 0.0419 - val_accuracy: 0.9860\n",
            "Epoch 6/50\n",
            "469/469 [==============================] - 2s 5ms/step - loss: 0.0409 - accuracy: 0.9873 - val_loss: 0.0344 - val_accuracy: 0.9893\n",
            "Epoch 7/50\n",
            "469/469 [==============================] - 3s 6ms/step - loss: 0.0374 - accuracy: 0.9880 - val_loss: 0.0414 - val_accuracy: 0.9880\n",
            "Epoch 8/50\n",
            "469/469 [==============================] - 3s 5ms/step - loss: 0.0330 - accuracy: 0.9900 - val_loss: 0.0457 - val_accuracy: 0.9852\n",
            "Epoch 9/50\n",
            "469/469 [==============================] - 3s 7ms/step - loss: 0.0308 - accuracy: 0.9904 - val_loss: 0.0305 - val_accuracy: 0.9903\n",
            "Epoch 10/50\n",
            "469/469 [==============================] - 3s 5ms/step - loss: 0.0293 - accuracy: 0.9905 - val_loss: 0.0358 - val_accuracy: 0.9887\n",
            "Epoch 11/50\n",
            "469/469 [==============================] - 3s 6ms/step - loss: 0.0287 - accuracy: 0.9906 - val_loss: 0.0333 - val_accuracy: 0.9897\n",
            "Epoch 12/50\n",
            "469/469 [==============================] - 3s 7ms/step - loss: 0.0262 - accuracy: 0.9916 - val_loss: 0.0407 - val_accuracy: 0.9881\n",
            "Epoch 13/50\n",
            "469/469 [==============================] - 3s 7ms/step - loss: 0.0238 - accuracy: 0.9921 - val_loss: 0.0343 - val_accuracy: 0.9898\n",
            "Epoch 14/50\n",
            "469/469 [==============================] - 3s 6ms/step - loss: 0.0215 - accuracy: 0.9930 - val_loss: 0.0375 - val_accuracy: 0.9876\n",
            "Epoch 15/50\n",
            "469/469 [==============================] - 3s 6ms/step - loss: 0.0208 - accuracy: 0.9934 - val_loss: 0.0334 - val_accuracy: 0.9901\n",
            "Epoch 16/50\n",
            "469/469 [==============================] - 3s 6ms/step - loss: 0.0189 - accuracy: 0.9938 - val_loss: 0.0386 - val_accuracy: 0.9885\n",
            "Epoch 17/50\n",
            "469/469 [==============================] - 2s 5ms/step - loss: 0.0198 - accuracy: 0.9931 - val_loss: 0.0415 - val_accuracy: 0.9866\n",
            "Epoch 18/50\n",
            "469/469 [==============================] - 3s 5ms/step - loss: 0.0177 - accuracy: 0.9937 - val_loss: 0.0427 - val_accuracy: 0.9885\n",
            "Epoch 19/50\n",
            "469/469 [==============================] - 3s 5ms/step - loss: 0.0164 - accuracy: 0.9945 - val_loss: 0.0355 - val_accuracy: 0.9903\n",
            "Epoch 20/50\n",
            "469/469 [==============================] - 3s 5ms/step - loss: 0.0150 - accuracy: 0.9948 - val_loss: 0.0334 - val_accuracy: 0.9918\n",
            "Epoch 21/50\n",
            "469/469 [==============================] - 2s 5ms/step - loss: 0.0154 - accuracy: 0.9948 - val_loss: 0.0428 - val_accuracy: 0.9872\n",
            "Epoch 22/50\n",
            "469/469 [==============================] - 2s 5ms/step - loss: 0.0142 - accuracy: 0.9952 - val_loss: 0.0349 - val_accuracy: 0.9902\n",
            "Epoch 23/50\n",
            "469/469 [==============================] - 3s 5ms/step - loss: 0.0131 - accuracy: 0.9955 - val_loss: 0.0334 - val_accuracy: 0.9908\n",
            "Epoch 24/50\n",
            "469/469 [==============================] - 3s 5ms/step - loss: 0.0127 - accuracy: 0.9956 - val_loss: 0.0363 - val_accuracy: 0.9902\n",
            "Epoch 25/50\n",
            "469/469 [==============================] - 2s 5ms/step - loss: 0.0144 - accuracy: 0.9954 - val_loss: 0.0410 - val_accuracy: 0.9889\n",
            "Epoch 26/50\n",
            "469/469 [==============================] - 2s 5ms/step - loss: 0.0121 - accuracy: 0.9961 - val_loss: 0.0336 - val_accuracy: 0.9903\n",
            "Epoch 27/50\n",
            "469/469 [==============================] - 2s 5ms/step - loss: 0.0111 - accuracy: 0.9964 - val_loss: 0.0464 - val_accuracy: 0.9891\n",
            "Epoch 28/50\n",
            "469/469 [==============================] - 2s 5ms/step - loss: 0.0103 - accuracy: 0.9965 - val_loss: 0.0414 - val_accuracy: 0.9897\n",
            "Epoch 29/50\n",
            "469/469 [==============================] - 2s 5ms/step - loss: 0.0130 - accuracy: 0.9956 - val_loss: 0.0482 - val_accuracy: 0.9881\n",
            "Epoch 30/50\n",
            "469/469 [==============================] - 3s 7ms/step - loss: 0.0095 - accuracy: 0.9970 - val_loss: 0.0379 - val_accuracy: 0.9915\n",
            "Epoch 31/50\n",
            "469/469 [==============================] - 3s 5ms/step - loss: 0.0108 - accuracy: 0.9962 - val_loss: 0.0408 - val_accuracy: 0.9901\n",
            "Epoch 32/50\n",
            "469/469 [==============================] - 3s 6ms/step - loss: 0.0100 - accuracy: 0.9966 - val_loss: 0.0405 - val_accuracy: 0.9910\n",
            "Epoch 33/50\n",
            "469/469 [==============================] - 3s 5ms/step - loss: 0.0089 - accuracy: 0.9970 - val_loss: 0.0451 - val_accuracy: 0.9894\n",
            "Epoch 34/50\n",
            "469/469 [==============================] - 2s 5ms/step - loss: 0.0094 - accuracy: 0.9969 - val_loss: 0.0535 - val_accuracy: 0.9887\n",
            "Epoch 35/50\n",
            "469/469 [==============================] - 3s 6ms/step - loss: 0.0094 - accuracy: 0.9967 - val_loss: 0.0506 - val_accuracy: 0.9875\n",
            "Epoch 36/50\n",
            "469/469 [==============================] - 3s 6ms/step - loss: 0.0084 - accuracy: 0.9970 - val_loss: 0.0460 - val_accuracy: 0.9912\n",
            "Epoch 37/50\n",
            "469/469 [==============================] - 3s 6ms/step - loss: 0.0082 - accuracy: 0.9971 - val_loss: 0.0435 - val_accuracy: 0.9907\n",
            "Epoch 38/50\n",
            "469/469 [==============================] - 2s 5ms/step - loss: 0.0096 - accuracy: 0.9966 - val_loss: 0.0557 - val_accuracy: 0.9893\n",
            "Epoch 39/50\n",
            "469/469 [==============================] - 3s 6ms/step - loss: 0.0079 - accuracy: 0.9974 - val_loss: 0.0466 - val_accuracy: 0.9911\n",
            "Epoch 40/50\n",
            "469/469 [==============================] - 2s 5ms/step - loss: 0.0085 - accuracy: 0.9969 - val_loss: 0.0426 - val_accuracy: 0.9907\n",
            "Epoch 41/50\n",
            "469/469 [==============================] - 2s 5ms/step - loss: 0.0061 - accuracy: 0.9979 - val_loss: 0.0482 - val_accuracy: 0.9908\n",
            "Epoch 42/50\n",
            "469/469 [==============================] - 3s 6ms/step - loss: 0.0079 - accuracy: 0.9972 - val_loss: 0.0449 - val_accuracy: 0.9919\n",
            "Epoch 43/50\n",
            "469/469 [==============================] - 3s 6ms/step - loss: 0.0066 - accuracy: 0.9977 - val_loss: 0.0819 - val_accuracy: 0.9832\n",
            "Epoch 44/50\n",
            "469/469 [==============================] - 3s 6ms/step - loss: 0.0108 - accuracy: 0.9961 - val_loss: 0.0434 - val_accuracy: 0.9906\n",
            "Epoch 45/50\n",
            "469/469 [==============================] - 3s 7ms/step - loss: 0.0068 - accuracy: 0.9978 - val_loss: 0.0513 - val_accuracy: 0.9901\n",
            "Epoch 46/50\n",
            "469/469 [==============================] - 2s 5ms/step - loss: 0.0069 - accuracy: 0.9977 - val_loss: 0.0603 - val_accuracy: 0.9889\n",
            "Epoch 47/50\n",
            "469/469 [==============================] - 2s 5ms/step - loss: 0.0092 - accuracy: 0.9970 - val_loss: 0.0601 - val_accuracy: 0.9885\n",
            "Epoch 48/50\n",
            "469/469 [==============================] - 3s 5ms/step - loss: 0.0041 - accuracy: 0.9987 - val_loss: 0.0598 - val_accuracy: 0.9890\n",
            "Epoch 49/50\n",
            "469/469 [==============================] - 3s 5ms/step - loss: 0.0109 - accuracy: 0.9967 - val_loss: 0.0535 - val_accuracy: 0.9888\n",
            "Epoch 50/50\n",
            "469/469 [==============================] - 2s 5ms/step - loss: 0.0051 - accuracy: 0.9982 - val_loss: 0.0487 - val_accuracy: 0.9907\n"
          ]
        }
      ]
    },
    {
      "cell_type": "code",
      "metadata": {
        "id": "zXQmG_xGyrzy"
      },
      "source": [
        "cnn.save('bien-chung-lenet.h5')"
      ],
      "execution_count": 12,
      "outputs": []
    },
    {
      "cell_type": "code",
      "source": [
        "import matplotlib.pyplot as plt\n"
      ],
      "metadata": {
        "id": "TnlTu8tli94e"
      },
      "execution_count": 13,
      "outputs": []
    },
    {
      "cell_type": "code",
      "metadata": {
        "id": "NzSuLa3zy4Eq",
        "colab": {
          "base_uri": "https://localhost:8080/",
          "height": 317
        },
        "outputId": "c93ef2f6-d534-4d48-a0b4-3b1361c1b24a"
      },
      "source": [
        "new_cnn = DeltaCNN()\n",
        "\n",
        "new_cnn.load('bien-chung-lenet.h5')\n",
        "pred = new_cnn.predict(x_test_norm)\n",
        "index = 300\n",
        "plt.imshow(x_test[index])\n",
        "plt.show()\n",
        "print('Predicted label: ', np.argmax(pred[index]))\n",
        "print('Ground-truth label: ', y_test[index])"
      ],
      "execution_count": 14,
      "outputs": [
        {
          "output_type": "stream",
          "name": "stdout",
          "text": [
            "313/313 [==============================] - 1s 2ms/step\n"
          ]
        },
        {
          "output_type": "display_data",
          "data": {
            "text/plain": [
              "<Figure size 432x288 with 1 Axes>"
            ],
            "image/png": "[encoded data removed]"
          },
          "metadata": {
            "needs_background": "light"
          }
        },
        {
          "output_type": "stream",
          "name": "stdout",
          "text": [
            "Predicted label:  4\n",
            "Ground-truth label:  4\n"
          ]
        }
      ]
    },
    {
      "cell_type": "code",
      "metadata": {
        "id": "M2qtR88aw50c",
        "colab": {
          "base_uri": "https://localhost:8080/",
          "height": 317
        },
        "outputId": "48841fa7-8538-4962-c898-2b4fe876aaaa"
      },
      "source": [
        "import matplotlib.pyplot as plt\n",
        "\n",
        "pred = cnn.predict(x_test_norm)\n",
        "test_index = 1234\n",
        "plt.imshow(x_test[test_index])\n",
        "plt.show()\n",
        "print('Predicted label: ', np.argmax(pred[test_index]))\n",
        "print('Ground-truth label: ', y_test[test_index])"
      ],
      "execution_count": 15,
      "outputs": [
        {
          "output_type": "stream",
          "name": "stdout",
          "text": [
            "313/313 [==============================] - 1s 2ms/step\n"
          ]
        },
        {
          "output_type": "display_data",
          "data": {
            "text/plain": [
              "<Figure size 432x288 with 1 Axes>"
            ],
            "image/png": "[encoded data removed]"
          },
          "metadata": {
            "needs_background": "light"
          }
        },
        {
          "output_type": "stream",
          "name": "stdout",
          "text": [
            "Predicted label:  8\n",
            "Ground-truth label:  8\n"
          ]
        }
      ]
    },
    {
      "cell_type": "code",
      "metadata": {
        "id": "QYLnuXjVUMVF",
        "colab": {
          "base_uri": "https://localhost:8080/",
          "height": 317
        },
        "outputId": "44708f40-9e14-49a2-e653-a641d9caf479"
      },
      "source": [
        "# Demo using a pretrained CNN model\n",
        "cnn = LeNetCNN()\n",
        "cnn.load('/content/bien-chung-lenet.h5')\n",
        "\n",
        "pred = cnn.predict(x_test_norm)\n",
        "plt.imshow(x_test[1000])\n",
        "plt.show()\n",
        "print('Predicted label: ', np.argmax(pred[1000]))\n",
        "print('Ground-truth label: ', y_test[1000])"
      ],
      "execution_count": 17,
      "outputs": [
        {
          "output_type": "stream",
          "name": "stdout",
          "text": [
            "313/313 [==============================] - 1s 3ms/step\n"
          ]
        },
        {
          "output_type": "display_data",
          "data": {
            "text/plain": [
              "<Figure size 432x288 with 1 Axes>"
            ],
            "image/png": "[encoded data removed]"
          },
          "metadata": {
            "needs_background": "light"
          }
        },
        {
          "output_type": "stream",
          "name": "stdout",
          "text": [
            "Predicted label:  9\n",
            "Ground-truth label:  9\n"
          ]
        }
      ]
    },
    {
      "cell_type": "code",
      "metadata": {
        "id": "jcbloAh5O2GP",
        "colab": {
          "base_uri": "https://localhost:8080/",
          "height": 282
        },
        "outputId": "97a30b3a-ff14-4919-f649-09098ac546fc"
      },
      "source": [
        "import matplotlib.pyplot as plt\n",
        "\n",
        "# Visualize training data\n",
        "plt.imshow(x_train[1234])\n",
        "plt.show()\n",
        "print('Label: ', y_train_oh[1234])"
      ],
      "execution_count": 18,
      "outputs": [
        {
          "output_type": "display_data",
          "data": {
            "text/plain": [
              "<Figure size 432x288 with 1 Axes>"
            ],
            "image/png": "[encoded data removed]"
          },
          "metadata": {
            "needs_background": "light"
          }
        },
        {
          "output_type": "stream",
          "name": "stdout",
          "text": [
            "Label:  [0. 0. 0. 1. 0. 0. 0. 0. 0. 0.]\n"
          ]
        }
      ]
    },
    {
      "cell_type": "code",
      "metadata": {
        "id": "MsV99FYkTA9V",
        "colab": {
          "base_uri": "https://localhost:8080/"
        },
        "outputId": "103f6b34-0bfa-45ea-bc15-b937578bbb86"
      },
      "source": [
        "pred_label = cnn.predict(x_test_norm)"
      ],
      "execution_count": 20,
      "outputs": [
        {
          "output_type": "stream",
          "name": "stdout",
          "text": [
            "313/313 [==============================] - 1s 2ms/step\n"
          ]
        }
      ]
    },
    {
      "cell_type": "code",
      "source": [
        "from sklearn.metrics import f1_score"
      ],
      "metadata": {
        "id": "1IW4O25huJph"
      },
      "execution_count": 70,
      "outputs": []
    },
    {
      "cell_type": "code",
      "source": [],
      "metadata": {
        "id": "kW1dAUu6uLhx"
      },
      "execution_count": null,
      "outputs": []
    },
    {
      "cell_type": "markdown",
      "source": [
        "# Remove activation func"
      ],
      "metadata": {
        "id": "PQBd15IumAXa"
      }
    },
    {
      "cell_type": "code",
      "source": [
        "class No_Activation_CNN:\n",
        "  # constructor\n",
        "  def __init__(self):\n",
        "    self.model = None\n",
        "\n",
        "  # Define structure of the CNN\n",
        "  def build(self, input_dim):\n",
        "    input = Input(shape = input_dim) # X dau vao cua minh\n",
        "    \n",
        "    C1 = Conv2D(8, (3, 3), padding='same', activation=None)(input)\n",
        "    S2 = MaxPooling2D(pool_size=(2, 2), padding=\"same\")(C1)\n",
        "\n",
        "    C3 = Conv2D(8, (3, 3), padding='same', activation=None)(S2)\n",
        "    C4 = Conv2D(8, (3, 3), padding='same', activation=None)(C3)\n",
        "    C5 = Add()([C4, S2])\n",
        "\n",
        "    C6 = Conv2D(16, (3, 3), strides = (2,2), padding='same', activation=None)(C5)\n",
        "    C7 = Conv2D(16, (3, 3), padding='same', activation=None)(C6)\n",
        "    C8 = Conv2D(16, (3, 3), padding='same', activation=None)(C7)\n",
        "    C9 = Add()([C8, C6])\n",
        "\n",
        "    P10 = AveragePooling2D()(C9)\n",
        "    flat = Flatten()(P10)\n",
        "    F0 = Dense(400, use_bias=True)(flat)\n",
        "    output = Dense(10, activation='softmax', use_bias=True)(F0)\n",
        "\n",
        "    self.model = Model(input, output)\n",
        "    self.model.compile(optimizer=\"adam\", loss = 'categorical_crossentropy', metrics=['accuracy'])\n",
        "  \n",
        "  # Train the model\n",
        "  def train(self, x_train, y_train, x_val, y_val): # x_train chinh la X, y_train chinh la ground-truthewedsdAQ  a QA\n",
        "    self.model.fit(x_train, y_train, validation_data = (x_val, y_val), epochs = 50, batch_size = 128)\n",
        "  \n",
        "  # Load model from file\n",
        "  def load(self, model_file):\n",
        "    self.model = load_model(model_file)\n",
        "  \n",
        "  # save the trained model\n",
        "  def save(self, model_file):\n",
        "    self.model.save(model_file)\n",
        "  \n",
        "  # Show the architecture of the model\n",
        "  def summary(self):\n",
        "    self.model.summary()\n",
        "\n",
        "  # Test the model with a given input\n",
        "  def predict(self, x_test):\n",
        "    return self.model.predict(x_test)"
      ],
      "metadata": {
        "id": "e6nH5V3ImEJC"
      },
      "execution_count": 21,
      "outputs": []
    },
    {
      "cell_type": "code",
      "source": [
        "no_activation = No_Activation_CNN()\n",
        "no_activation.build((28, 28, 1))\n",
        "no_activation.summary()\n",
        "no_activation.train(x_train_norm, y_train_oh, x_test_norm, y_test_oh)"
      ],
      "metadata": {
        "colab": {
          "base_uri": "https://localhost:8080/"
        },
        "id": "thFvgLbImp53",
        "outputId": "158550da-a3a3-412e-e23a-7585117cf950"
      },
      "execution_count": 22,
      "outputs": [
        {
          "output_type": "stream",
          "name": "stdout",
          "text": [
            "Model: \"model_1\"\n",
            "__________________________________________________________________________________________________\n",
            " Layer (type)                   Output Shape         Param #     Connected to                     \n",
            "==================================================================================================\n",
            " input_2 (InputLayer)           [(None, 28, 28, 1)]  0           []                               \n",
            "                                                                                                  \n",
            " conv2d_6 (Conv2D)              (None, 28, 28, 8)    80          ['input_2[0][0]']                \n",
            "                                                                                                  \n",
            " max_pooling2d_1 (MaxPooling2D)  (None, 14, 14, 8)   0           ['conv2d_6[0][0]']               \n",
            "                                                                                                  \n",
            " conv2d_7 (Conv2D)              (None, 14, 14, 8)    584         ['max_pooling2d_1[0][0]']        \n",
            "                                                                                                  \n",
            " conv2d_8 (Conv2D)              (None, 14, 14, 8)    584         ['conv2d_7[0][0]']               \n",
            "                                                                                                  \n",
            " add_2 (Add)                    (None, 14, 14, 8)    0           ['conv2d_8[0][0]',               \n",
            "                                                                  'max_pooling2d_1[0][0]']        \n",
            "                                                                                                  \n",
            " conv2d_9 (Conv2D)              (None, 7, 7, 16)     1168        ['add_2[0][0]']                  \n",
            "                                                                                                  \n",
            " conv2d_10 (Conv2D)             (None, 7, 7, 16)     2320        ['conv2d_9[0][0]']               \n",
            "                                                                                                  \n",
            " conv2d_11 (Conv2D)             (None, 7, 7, 16)     2320        ['conv2d_10[0][0]']              \n",
            "                                                                                                  \n",
            " add_3 (Add)                    (None, 7, 7, 16)     0           ['conv2d_11[0][0]',              \n",
            "                                                                  'conv2d_9[0][0]']               \n",
            "                                                                                                  \n",
            " average_pooling2d_1 (AveragePo  (None, 3, 3, 16)    0           ['add_3[0][0]']                  \n",
            " oling2D)                                                                                         \n",
            "                                                                                                  \n",
            " flatten_1 (Flatten)            (None, 144)          0           ['average_pooling2d_1[0][0]']    \n",
            "                                                                                                  \n",
            " dense_2 (Dense)                (None, 400)          58000       ['flatten_1[0][0]']              \n",
            "                                                                                                  \n",
            " dense_3 (Dense)                (None, 10)           4010        ['dense_2[0][0]']                \n",
            "                                                                                                  \n",
            "==================================================================================================\n",
            "Total params: 69,066\n",
            "Trainable params: 69,066\n",
            "Non-trainable params: 0\n",
            "__________________________________________________________________________________________________\n",
            "Epoch 1/50\n",
            "469/469 [==============================] - 3s 5ms/step - loss: 0.4344 - accuracy: 0.8693 - val_loss: 0.2592 - val_accuracy: 0.9230\n",
            "Epoch 2/50\n",
            "469/469 [==============================] - 3s 6ms/step - loss: 0.2308 - accuracy: 0.9311 - val_loss: 0.1522 - val_accuracy: 0.9533\n",
            "Epoch 3/50\n",
            "469/469 [==============================] - 3s 5ms/step - loss: 0.1556 - accuracy: 0.9527 - val_loss: 0.1240 - val_accuracy: 0.9608\n",
            "Epoch 4/50\n",
            "469/469 [==============================] - 2s 5ms/step - loss: 0.1380 - accuracy: 0.9578 - val_loss: 0.1269 - val_accuracy: 0.9604\n",
            "Epoch 5/50\n",
            "469/469 [==============================] - 2s 5ms/step - loss: 0.1268 - accuracy: 0.9616 - val_loss: 0.1124 - val_accuracy: 0.9645\n",
            "Epoch 6/50\n",
            "469/469 [==============================] - 2s 5ms/step - loss: 0.1209 - accuracy: 0.9635 - val_loss: 0.1005 - val_accuracy: 0.9694\n",
            "Epoch 7/50\n",
            "469/469 [==============================] - 3s 5ms/step - loss: 0.1110 - accuracy: 0.9660 - val_loss: 0.1101 - val_accuracy: 0.9661\n",
            "Epoch 8/50\n",
            "469/469 [==============================] - 3s 6ms/step - loss: 0.1060 - accuracy: 0.9677 - val_loss: 0.0957 - val_accuracy: 0.9705\n",
            "Epoch 9/50\n",
            "469/469 [==============================] - 3s 6ms/step - loss: 0.0986 - accuracy: 0.9698 - val_loss: 0.0933 - val_accuracy: 0.9705\n",
            "Epoch 10/50\n",
            "469/469 [==============================] - 2s 5ms/step - loss: 0.0935 - accuracy: 0.9718 - val_loss: 0.0762 - val_accuracy: 0.9753\n",
            "Epoch 11/50\n",
            "469/469 [==============================] - 2s 5ms/step - loss: 0.0876 - accuracy: 0.9737 - val_loss: 0.0851 - val_accuracy: 0.9717\n",
            "Epoch 12/50\n",
            "469/469 [==============================] - 2s 5ms/step - loss: 0.0844 - accuracy: 0.9743 - val_loss: 0.0853 - val_accuracy: 0.9723\n",
            "Epoch 13/50\n",
            "469/469 [==============================] - 3s 6ms/step - loss: 0.0828 - accuracy: 0.9748 - val_loss: 0.0755 - val_accuracy: 0.9750\n",
            "Epoch 14/50\n",
            "469/469 [==============================] - 3s 5ms/step - loss: 0.0812 - accuracy: 0.9754 - val_loss: 0.0814 - val_accuracy: 0.9746\n",
            "Epoch 15/50\n",
            "469/469 [==============================] - 2s 5ms/step - loss: 0.0762 - accuracy: 0.9768 - val_loss: 0.0732 - val_accuracy: 0.9776\n",
            "Epoch 16/50\n",
            "469/469 [==============================] - 2s 5ms/step - loss: 0.0773 - accuracy: 0.9762 - val_loss: 0.0723 - val_accuracy: 0.9793\n",
            "Epoch 17/50\n",
            "469/469 [==============================] - 2s 5ms/step - loss: 0.0738 - accuracy: 0.9769 - val_loss: 0.0819 - val_accuracy: 0.9747\n",
            "Epoch 18/50\n",
            "469/469 [==============================] - 3s 6ms/step - loss: 0.0734 - accuracy: 0.9769 - val_loss: 0.0713 - val_accuracy: 0.9782\n",
            "Epoch 19/50\n",
            "469/469 [==============================] - 2s 5ms/step - loss: 0.0734 - accuracy: 0.9766 - val_loss: 0.0749 - val_accuracy: 0.9755\n",
            "Epoch 20/50\n",
            "469/469 [==============================] - 3s 5ms/step - loss: 0.0706 - accuracy: 0.9778 - val_loss: 0.0736 - val_accuracy: 0.9763\n",
            "Epoch 21/50\n",
            "469/469 [==============================] - 2s 5ms/step - loss: 0.0704 - accuracy: 0.9779 - val_loss: 0.0719 - val_accuracy: 0.9780\n",
            "Epoch 22/50\n",
            "469/469 [==============================] - 3s 6ms/step - loss: 0.0690 - accuracy: 0.9786 - val_loss: 0.0692 - val_accuracy: 0.9793\n",
            "Epoch 23/50\n",
            "469/469 [==============================] - 3s 6ms/step - loss: 0.0683 - accuracy: 0.9790 - val_loss: 0.0777 - val_accuracy: 0.9761\n",
            "Epoch 24/50\n",
            "469/469 [==============================] - 2s 5ms/step - loss: 0.0662 - accuracy: 0.9795 - val_loss: 0.0746 - val_accuracy: 0.9769\n",
            "Epoch 25/50\n",
            "469/469 [==============================] - 2s 5ms/step - loss: 0.0651 - accuracy: 0.9791 - val_loss: 0.0763 - val_accuracy: 0.9783\n",
            "Epoch 26/50\n",
            "469/469 [==============================] - 2s 5ms/step - loss: 0.0658 - accuracy: 0.9786 - val_loss: 0.0735 - val_accuracy: 0.9783\n",
            "Epoch 27/50\n",
            "469/469 [==============================] - 2s 5ms/step - loss: 0.0650 - accuracy: 0.9796 - val_loss: 0.0703 - val_accuracy: 0.9782\n",
            "Epoch 28/50\n",
            "469/469 [==============================] - 2s 5ms/step - loss: 0.0633 - accuracy: 0.9794 - val_loss: 0.0735 - val_accuracy: 0.9785\n",
            "Epoch 29/50\n",
            "469/469 [==============================] - 2s 5ms/step - loss: 0.0658 - accuracy: 0.9790 - val_loss: 0.0678 - val_accuracy: 0.9803\n",
            "Epoch 30/50\n",
            "469/469 [==============================] - 2s 5ms/step - loss: 0.0623 - accuracy: 0.9801 - val_loss: 0.0761 - val_accuracy: 0.9759\n",
            "Epoch 31/50\n",
            "469/469 [==============================] - 3s 5ms/step - loss: 0.0615 - accuracy: 0.9804 - val_loss: 0.0768 - val_accuracy: 0.9777\n",
            "Epoch 32/50\n",
            "469/469 [==============================] - 2s 5ms/step - loss: 0.0609 - accuracy: 0.9802 - val_loss: 0.0749 - val_accuracy: 0.9779\n",
            "Epoch 33/50\n",
            "469/469 [==============================] - 2s 5ms/step - loss: 0.0616 - accuracy: 0.9803 - val_loss: 0.0712 - val_accuracy: 0.9792\n",
            "Epoch 34/50\n",
            "469/469 [==============================] - 3s 6ms/step - loss: 0.0594 - accuracy: 0.9812 - val_loss: 0.0682 - val_accuracy: 0.9792\n",
            "Epoch 35/50\n",
            "469/469 [==============================] - 2s 5ms/step - loss: 0.0596 - accuracy: 0.9811 - val_loss: 0.0745 - val_accuracy: 0.9782\n",
            "Epoch 36/50\n",
            "469/469 [==============================] - 2s 5ms/step - loss: 0.0598 - accuracy: 0.9808 - val_loss: 0.0821 - val_accuracy: 0.9757\n",
            "Epoch 37/50\n",
            "469/469 [==============================] - 2s 5ms/step - loss: 0.0596 - accuracy: 0.9810 - val_loss: 0.0834 - val_accuracy: 0.9756\n",
            "Epoch 38/50\n",
            "469/469 [==============================] - 2s 5ms/step - loss: 0.0590 - accuracy: 0.9815 - val_loss: 0.0798 - val_accuracy: 0.9751\n",
            "Epoch 39/50\n",
            "469/469 [==============================] - 2s 5ms/step - loss: 0.0576 - accuracy: 0.9814 - val_loss: 0.0686 - val_accuracy: 0.9788\n",
            "Epoch 40/50\n",
            "469/469 [==============================] - 2s 5ms/step - loss: 0.0581 - accuracy: 0.9819 - val_loss: 0.0751 - val_accuracy: 0.9772\n",
            "Epoch 41/50\n",
            "469/469 [==============================] - 2s 5ms/step - loss: 0.0565 - accuracy: 0.9816 - val_loss: 0.0791 - val_accuracy: 0.9738\n",
            "Epoch 42/50\n",
            "469/469 [==============================] - 2s 5ms/step - loss: 0.0563 - accuracy: 0.9817 - val_loss: 0.0774 - val_accuracy: 0.9767\n",
            "Epoch 43/50\n",
            "469/469 [==============================] - 3s 5ms/step - loss: 0.0556 - accuracy: 0.9824 - val_loss: 0.0702 - val_accuracy: 0.9780\n",
            "Epoch 44/50\n",
            "469/469 [==============================] - 2s 5ms/step - loss: 0.0561 - accuracy: 0.9822 - val_loss: 0.0731 - val_accuracy: 0.9781\n",
            "Epoch 45/50\n",
            "469/469 [==============================] - 2s 5ms/step - loss: 0.0547 - accuracy: 0.9822 - val_loss: 0.0711 - val_accuracy: 0.9787\n",
            "Epoch 46/50\n",
            "469/469 [==============================] - 2s 5ms/step - loss: 0.0547 - accuracy: 0.9823 - val_loss: 0.0767 - val_accuracy: 0.9745\n",
            "Epoch 47/50\n",
            "469/469 [==============================] - 2s 5ms/step - loss: 0.0532 - accuracy: 0.9831 - val_loss: 0.0723 - val_accuracy: 0.9778\n",
            "Epoch 48/50\n",
            "469/469 [==============================] - 2s 5ms/step - loss: 0.0542 - accuracy: 0.9825 - val_loss: 0.0743 - val_accuracy: 0.9771\n",
            "Epoch 49/50\n",
            "469/469 [==============================] - 2s 5ms/step - loss: 0.0537 - accuracy: 0.9832 - val_loss: 0.0746 - val_accuracy: 0.9777\n",
            "Epoch 50/50\n",
            "469/469 [==============================] - 3s 6ms/step - loss: 0.0553 - accuracy: 0.9821 - val_loss: 0.0828 - val_accuracy: 0.9749\n"
          ]
        }
      ]
    },
    {
      "cell_type": "code",
      "source": [
        "from sklearn.metrics import confusion_matrix\n",
        "\n",
        "#Predict\n",
        "y_prediction = no_activation.predict(x_test)"
      ],
      "metadata": {
        "colab": {
          "base_uri": "https://localhost:8080/"
        },
        "id": "CbSiPuP9m2Tu",
        "outputId": "9888769a-d2e7-4c59-adab-261fda16d5e8"
      },
      "execution_count": 71,
      "outputs": [
        {
          "output_type": "stream",
          "name": "stdout",
          "text": [
            "313/313 [==============================] - 1s 2ms/step\n"
          ]
        }
      ]
    },
    {
      "cell_type": "code",
      "source": [
        "y_test"
      ],
      "metadata": {
        "colab": {
          "base_uri": "https://localhost:8080/"
        },
        "id": "s-Vxqeq1nlwg",
        "outputId": "79bef755-3cd5-464b-f491-b0285ed89e9b"
      },
      "execution_count": 72,
      "outputs": [
        {
          "output_type": "execute_result",
          "data": {
            "text/plain": [
              "array([7, 2, 1, ..., 4, 5, 6], dtype=uint8)"
            ]
          },
          "metadata": {},
          "execution_count": 72
        }
      ]
    },
    {
      "cell_type": "code",
      "source": [
        "import numpy as np\n",
        "rounded_labels=np.argmax(y_prediction, axis=1)\n",
        "rounded_labels"
      ],
      "metadata": {
        "colab": {
          "base_uri": "https://localhost:8080/"
        },
        "id": "SAnEI0YMoFKS",
        "outputId": "0af88f00-8165-4347-81cf-34456be15a18"
      },
      "execution_count": 73,
      "outputs": [
        {
          "output_type": "execute_result",
          "data": {
            "text/plain": [
              "array([7, 8, 8, ..., 4, 8, 6])"
            ]
          },
          "metadata": {},
          "execution_count": 73
        }
      ]
    },
    {
      "cell_type": "code",
      "source": [
        "result = confusion_matrix(y_test, rounded_labels)"
      ],
      "metadata": {
        "id": "bYpAoTDBp0iK"
      },
      "execution_count": 74,
      "outputs": []
    },
    {
      "cell_type": "code",
      "source": [
        "import seaborn as sns"
      ],
      "metadata": {
        "id": "2Ixd-D1SpahL"
      },
      "execution_count": 75,
      "outputs": []
    },
    {
      "cell_type": "code",
      "source": [
        "plt.figure(figsize = (10,7))\n",
        "sns.heatmap(result, annot=True)\n",
        "plt.show()"
      ],
      "metadata": {
        "colab": {
          "base_uri": "https://localhost:8080/",
          "height": 428
        },
        "id": "mhuApjxsoq6E",
        "outputId": "58ad4ac6-7faa-45eb-eb23-22f7ae78e61c"
      },
      "execution_count": 76,
      "outputs": [
        {
          "output_type": "display_data",
          "data": {
            "text/plain": [
              "<Figure size 720x504 with 2 Axes>"
            ],
            "image/png": "[encoded data removed]"
          },
          "metadata": {
            "needs_background": "light"
          }
        }
      ]
    },
    {
      "cell_type": "code",
      "source": [
        "f1 = f1_score(y_test, rounded_labels, average=None)"
      ],
      "metadata": {
        "id": "x1A5VTZIuU0w"
      },
      "execution_count": 78,
      "outputs": []
    },
    {
      "cell_type": "code",
      "source": [
        "f1"
      ],
      "metadata": {
        "colab": {
          "base_uri": "https://localhost:8080/"
        },
        "id": "eCelcrguufU6",
        "outputId": "b6f37a59-ead0-4b89-8b58-8643c20ccbf6"
      },
      "execution_count": 79,
      "outputs": [
        {
          "output_type": "execute_result",
          "data": {
            "text/plain": [
              "array([0.9171695 , 0.        , 0.43754731, 0.75259875, 0.86222732,\n",
              "       0.13778706, 0.94130554, 0.34059726, 0.31976362, 0.67936181])"
            ]
          },
          "metadata": {},
          "execution_count": 79
        }
      ]
    },
    {
      "cell_type": "markdown",
      "source": [
        "# No Conv"
      ],
      "metadata": {
        "id": "Yl2s6eNoqT2q"
      }
    },
    {
      "cell_type": "code",
      "source": [
        "from keras.layers import Input, Dense, Conv2D, MaxPooling2D, Flatten, Add, AveragePooling2D\n",
        "from keras.models import load_model, Model\n",
        "#from keras.objectives import categorical_crossentropy\n",
        "\n",
        "class No_Conv_CNN:\n",
        "  # constructor\n",
        "  def __init__(self):\n",
        "    self.model = None\n",
        "\n",
        "  # Define structure of the CNN\n",
        "  def build(self, input_dim):\n",
        "    input = Input(shape = input_dim) # X dau vao cua minh\n",
        "  \n",
        "    S2 = MaxPooling2D(pool_size=(2, 2), padding=\"same\")(input)\n",
        "\n",
        "    C5 = Add()([S2])\n",
        "\n",
        "    P10 = AveragePooling2D()(C5)\n",
        "    flat = Flatten()(P10)\n",
        "    F0 = Dense(400, use_bias=True)(flat)\n",
        "    output = Dense(10, activation='softmax', use_bias=True)(F0)\n",
        "\n",
        "    self.model = Model(input, output)\n",
        "    self.model.compile(optimizer=\"adam\", loss = 'categorical_crossentropy', metrics=['accuracy'])\n",
        "  \n",
        "  # Train the model\n",
        "  def train(self, x_train, y_train, x_val, y_val): # x_train chinh la X, y_train chinh la ground-truthewedsdAQ  a QA\n",
        "    self.model.fit(x_train, y_train, validation_data = (x_val, y_val), epochs = 50, batch_size = 128)\n",
        "  \n",
        "  # Load model from file\n",
        "  def load(self, model_file):\n",
        "    self.model = load_model(model_file)\n",
        "  \n",
        "  # save the trained model\n",
        "  def save(self, model_file):\n",
        "    self.model.save(model_file)\n",
        "  \n",
        "  # Show the architecture of the model\n",
        "  def summary(self):\n",
        "    self.model.summary()\n",
        "\n",
        "  # Test the model with a given input\n",
        "  def predict(self, x_test):\n",
        "    return self.model.predict(x_test)"
      ],
      "metadata": {
        "id": "TZuu9bz1qVAC"
      },
      "execution_count": 54,
      "outputs": []
    },
    {
      "cell_type": "code",
      "source": [
        "no_conv = No_Conv_CNN()\n",
        "no_conv.build((28, 28, 1))\n",
        "no_conv.summary()\n",
        "no_conv.train(x_train_norm, y_train_oh, x_test_norm, y_test_oh)"
      ],
      "metadata": {
        "colab": {
          "base_uri": "https://localhost:8080/"
        },
        "id": "OTK9_uaiq3DT",
        "outputId": "2498a895-05a8-4944-9509-59b66094d429"
      },
      "execution_count": 56,
      "outputs": [
        {
          "output_type": "stream",
          "name": "stdout",
          "text": [
            "Model: \"model_3\"\n",
            "_________________________________________________________________\n",
            " Layer (type)                Output Shape              Param #   \n",
            "=================================================================\n",
            " input_4 (InputLayer)        [(None, 28, 28, 1)]       0         \n",
            "                                                                 \n",
            " max_pooling2d_3 (MaxPooling  (None, 14, 14, 1)        0         \n",
            " 2D)                                                             \n",
            "                                                                 \n",
            " add_6 (Add)                 (None, 14, 14, 1)         0         \n",
            "                                                                 \n",
            " average_pooling2d_3 (Averag  (None, 7, 7, 1)          0         \n",
            " ePooling2D)                                                     \n",
            "                                                                 \n",
            " flatten_3 (Flatten)         (None, 49)                0         \n",
            "                                                                 \n",
            " dense_6 (Dense)             (None, 400)               20000     \n",
            "                                                                 \n",
            " dense_7 (Dense)             (None, 10)                4010      \n",
            "                                                                 \n",
            "=================================================================\n",
            "Total params: 24,010\n",
            "Trainable params: 24,010\n",
            "Non-trainable params: 0\n",
            "_________________________________________________________________\n",
            "Epoch 1/50\n",
            "469/469 [==============================] - 2s 4ms/step - loss: 0.6405 - accuracy: 0.8288 - val_loss: 0.4008 - val_accuracy: 0.8792\n",
            "Epoch 2/50\n",
            "469/469 [==============================] - 1s 3ms/step - loss: 0.3997 - accuracy: 0.8792 - val_loss: 0.3685 - val_accuracy: 0.8882\n",
            "Epoch 3/50\n",
            "469/469 [==============================] - 1s 3ms/step - loss: 0.3880 - accuracy: 0.8821 - val_loss: 0.3672 - val_accuracy: 0.8864\n",
            "Epoch 4/50\n",
            "469/469 [==============================] - 1s 3ms/step - loss: 0.3832 - accuracy: 0.8837 - val_loss: 0.3627 - val_accuracy: 0.8914\n",
            "Epoch 5/50\n",
            "469/469 [==============================] - 1s 3ms/step - loss: 0.3817 - accuracy: 0.8830 - val_loss: 0.3614 - val_accuracy: 0.8892\n",
            "Epoch 6/50\n",
            "469/469 [==============================] - 2s 3ms/step - loss: 0.3813 - accuracy: 0.8837 - val_loss: 0.3691 - val_accuracy: 0.8847\n",
            "Epoch 7/50\n",
            "469/469 [==============================] - 2s 3ms/step - loss: 0.3803 - accuracy: 0.8849 - val_loss: 0.3630 - val_accuracy: 0.8897\n",
            "Epoch 8/50\n",
            "469/469 [==============================] - 2s 4ms/step - loss: 0.3795 - accuracy: 0.8849 - val_loss: 0.3662 - val_accuracy: 0.8880\n",
            "Epoch 9/50\n",
            "469/469 [==============================] - 2s 4ms/step - loss: 0.3788 - accuracy: 0.8852 - val_loss: 0.3588 - val_accuracy: 0.8912\n",
            "Epoch 10/50\n",
            "469/469 [==============================] - 2s 4ms/step - loss: 0.3790 - accuracy: 0.8849 - val_loss: 0.3666 - val_accuracy: 0.8889\n",
            "Epoch 11/50\n",
            "469/469 [==============================] - 2s 4ms/step - loss: 0.3786 - accuracy: 0.8860 - val_loss: 0.3616 - val_accuracy: 0.8887\n",
            "Epoch 12/50\n",
            "469/469 [==============================] - 2s 5ms/step - loss: 0.3789 - accuracy: 0.8855 - val_loss: 0.3679 - val_accuracy: 0.8885\n",
            "Epoch 13/50\n",
            "469/469 [==============================] - 2s 3ms/step - loss: 0.3784 - accuracy: 0.8860 - val_loss: 0.3627 - val_accuracy: 0.8894\n",
            "Epoch 14/50\n",
            "469/469 [==============================] - 2s 3ms/step - loss: 0.3779 - accuracy: 0.8852 - val_loss: 0.3592 - val_accuracy: 0.8921\n",
            "Epoch 15/50\n",
            "469/469 [==============================] - 2s 4ms/step - loss: 0.3789 - accuracy: 0.8849 - val_loss: 0.3643 - val_accuracy: 0.8903\n",
            "Epoch 16/50\n",
            "469/469 [==============================] - 2s 4ms/step - loss: 0.3781 - accuracy: 0.8858 - val_loss: 0.3612 - val_accuracy: 0.8886\n",
            "Epoch 17/50\n",
            "469/469 [==============================] - 2s 3ms/step - loss: 0.3783 - accuracy: 0.8856 - val_loss: 0.3582 - val_accuracy: 0.8954\n",
            "Epoch 18/50\n",
            "469/469 [==============================] - 1s 3ms/step - loss: 0.3777 - accuracy: 0.8855 - val_loss: 0.3573 - val_accuracy: 0.8918\n",
            "Epoch 19/50\n",
            "469/469 [==============================] - 2s 4ms/step - loss: 0.3781 - accuracy: 0.8853 - val_loss: 0.3604 - val_accuracy: 0.8911\n",
            "Epoch 20/50\n",
            "469/469 [==============================] - 2s 4ms/step - loss: 0.3780 - accuracy: 0.8860 - val_loss: 0.3615 - val_accuracy: 0.8928\n",
            "Epoch 21/50\n",
            "469/469 [==============================] - 2s 4ms/step - loss: 0.3772 - accuracy: 0.8855 - val_loss: 0.3643 - val_accuracy: 0.8904\n",
            "Epoch 22/50\n",
            "469/469 [==============================] - 2s 5ms/step - loss: 0.3780 - accuracy: 0.8853 - val_loss: 0.3599 - val_accuracy: 0.8936\n",
            "Epoch 23/50\n",
            "469/469 [==============================] - 2s 4ms/step - loss: 0.3774 - accuracy: 0.8864 - val_loss: 0.3566 - val_accuracy: 0.8942\n",
            "Epoch 24/50\n",
            "469/469 [==============================] - 1s 3ms/step - loss: 0.3776 - accuracy: 0.8857 - val_loss: 0.3679 - val_accuracy: 0.8920\n",
            "Epoch 25/50\n",
            "469/469 [==============================] - 2s 3ms/step - loss: 0.3779 - accuracy: 0.8862 - val_loss: 0.3720 - val_accuracy: 0.8876\n",
            "Epoch 26/50\n",
            "469/469 [==============================] - 2s 5ms/step - loss: 0.3787 - accuracy: 0.8856 - val_loss: 0.3609 - val_accuracy: 0.8899\n",
            "Epoch 27/50\n",
            "469/469 [==============================] - 3s 6ms/step - loss: 0.3781 - accuracy: 0.8845 - val_loss: 0.3564 - val_accuracy: 0.8934\n",
            "Epoch 28/50\n",
            "469/469 [==============================] - 3s 6ms/step - loss: 0.3780 - accuracy: 0.8854 - val_loss: 0.3583 - val_accuracy: 0.8935\n",
            "Epoch 29/50\n",
            "469/469 [==============================] - 2s 4ms/step - loss: 0.3779 - accuracy: 0.8850 - val_loss: 0.3585 - val_accuracy: 0.8919\n",
            "Epoch 30/50\n",
            "469/469 [==============================] - 2s 3ms/step - loss: 0.3773 - accuracy: 0.8860 - val_loss: 0.3608 - val_accuracy: 0.8918\n",
            "Epoch 31/50\n",
            "469/469 [==============================] - 1s 3ms/step - loss: 0.3770 - accuracy: 0.8856 - val_loss: 0.3571 - val_accuracy: 0.8929\n",
            "Epoch 32/50\n",
            "469/469 [==============================] - 2s 3ms/step - loss: 0.3772 - accuracy: 0.8858 - val_loss: 0.3596 - val_accuracy: 0.8918\n",
            "Epoch 33/50\n",
            "469/469 [==============================] - 2s 5ms/step - loss: 0.3771 - accuracy: 0.8853 - val_loss: 0.3617 - val_accuracy: 0.8905\n",
            "Epoch 34/50\n",
            "469/469 [==============================] - 2s 5ms/step - loss: 0.3765 - accuracy: 0.8859 - val_loss: 0.3602 - val_accuracy: 0.8925\n",
            "Epoch 35/50\n",
            "469/469 [==============================] - 1s 3ms/step - loss: 0.3770 - accuracy: 0.8859 - val_loss: 0.3612 - val_accuracy: 0.8929\n",
            "Epoch 36/50\n",
            "469/469 [==============================] - 2s 3ms/step - loss: 0.3779 - accuracy: 0.8852 - val_loss: 0.3635 - val_accuracy: 0.8917\n",
            "Epoch 37/50\n",
            "469/469 [==============================] - 1s 3ms/step - loss: 0.3769 - accuracy: 0.8859 - val_loss: 0.3632 - val_accuracy: 0.8925\n",
            "Epoch 38/50\n",
            "469/469 [==============================] - 2s 4ms/step - loss: 0.3766 - accuracy: 0.8858 - val_loss: 0.3712 - val_accuracy: 0.8904\n",
            "Epoch 39/50\n",
            "469/469 [==============================] - 2s 4ms/step - loss: 0.3765 - accuracy: 0.8855 - val_loss: 0.3576 - val_accuracy: 0.8936\n",
            "Epoch 40/50\n",
            "469/469 [==============================] - 1s 3ms/step - loss: 0.3773 - accuracy: 0.8860 - val_loss: 0.3646 - val_accuracy: 0.8902\n",
            "Epoch 41/50\n",
            "469/469 [==============================] - 2s 3ms/step - loss: 0.3773 - accuracy: 0.8859 - val_loss: 0.3613 - val_accuracy: 0.8900\n",
            "Epoch 42/50\n",
            "469/469 [==============================] - 2s 4ms/step - loss: 0.3773 - accuracy: 0.8857 - val_loss: 0.3634 - val_accuracy: 0.8888\n",
            "Epoch 43/50\n",
            "469/469 [==============================] - 2s 4ms/step - loss: 0.3769 - accuracy: 0.8864 - val_loss: 0.3588 - val_accuracy: 0.8910\n",
            "Epoch 44/50\n",
            "469/469 [==============================] - 2s 4ms/step - loss: 0.3774 - accuracy: 0.8852 - val_loss: 0.3594 - val_accuracy: 0.8930\n",
            "Epoch 45/50\n",
            "469/469 [==============================] - 2s 4ms/step - loss: 0.3771 - accuracy: 0.8858 - val_loss: 0.3631 - val_accuracy: 0.8921\n",
            "Epoch 46/50\n",
            "469/469 [==============================] - 1s 3ms/step - loss: 0.3766 - accuracy: 0.8861 - val_loss: 0.3606 - val_accuracy: 0.8917\n",
            "Epoch 47/50\n",
            "469/469 [==============================] - 2s 4ms/step - loss: 0.3767 - accuracy: 0.8861 - val_loss: 0.3575 - val_accuracy: 0.8938\n",
            "Epoch 48/50\n",
            "469/469 [==============================] - 1s 3ms/step - loss: 0.3762 - accuracy: 0.8855 - val_loss: 0.3592 - val_accuracy: 0.8948\n",
            "Epoch 49/50\n",
            "469/469 [==============================] - 2s 3ms/step - loss: 0.3766 - accuracy: 0.8855 - val_loss: 0.3622 - val_accuracy: 0.8918\n",
            "Epoch 50/50\n",
            "469/469 [==============================] - 1s 3ms/step - loss: 0.3763 - accuracy: 0.8857 - val_loss: 0.3652 - val_accuracy: 0.8898\n"
          ]
        }
      ]
    },
    {
      "cell_type": "code",
      "source": [
        "y_prediction = no_conv.predict(x_test)\n",
        "rounded_labels=np.argmax(y_prediction, axis=1)\n",
        "result = confusion_matrix(y_test, rounded_labels)\n",
        "f1 = f1_score(y_test, rounded_labels,average=None)\n",
        "f1"
      ],
      "metadata": {
        "colab": {
          "base_uri": "https://localhost:8080/"
        },
        "id": "_9b3qdmetnZL",
        "outputId": "7b9423de-9f1c-4a09-f36f-932c0f12c809"
      },
      "execution_count": 66,
      "outputs": [
        {
          "output_type": "stream",
          "name": "stdout",
          "text": [
            "313/313 [==============================] - 1s 3ms/step\n"
          ]
        },
        {
          "output_type": "execute_result",
          "data": {
            "text/plain": [
              "array([0.9296606 , 0.00176056, 0.69068323, 0.78388677, 0.78107944,\n",
              "       0.05452563, 0.90391841, 0.74652148, 0.35693215, 0.66666667])"
            ]
          },
          "metadata": {},
          "execution_count": 66
        }
      ]
    },
    {
      "cell_type": "markdown",
      "source": [
        "# Bỏ hết Pooling layer"
      ],
      "metadata": {
        "id": "9mNzZB0ArLtO"
      }
    },
    {
      "cell_type": "code",
      "source": [
        "from keras.layers import Input, Dense, Conv2D, MaxPooling2D, Flatten, Add, AveragePooling2D\n",
        "from keras.models import load_model, Model\n",
        "#from keras.objectives import categorical_crossentropy\n",
        "\n",
        "class No_Pooling_CNN:\n",
        "  # constructor\n",
        "  def __init__(self):\n",
        "    self.model = None\n",
        "\n",
        "  # Define structure of the CNN\n",
        "  def build(self, input_dim):\n",
        "    input = Input(shape = input_dim) # X dau vao cua minh\n",
        "    \n",
        "    C1 = Conv2D(8, (3, 3), padding='same', activation='relu')(input)\n",
        "\n",
        "    C3 = Conv2D(8, (3, 3), padding='same', activation='relu')(C1)\n",
        "    C4 = Conv2D(8, (3, 3), padding='same', activation='relu')(C3)\n",
        "    C5 = Add()([C4])\n",
        "\n",
        "    C6 = Conv2D(16, (3, 3), strides = (2,2), padding='same', activation='relu')(C5)\n",
        "    C7 = Conv2D(16, (3, 3), padding='same', activation='relu')(C6)\n",
        "    C8 = Conv2D(16, (3, 3), padding='same', activation='relu')(C7)\n",
        "    C9 = Add()([C8, C6])\n",
        "\n",
        "    flat = Flatten()(C9)\n",
        "    F0 = Dense(400, use_bias=True)(flat)\n",
        "    output = Dense(10, activation='softmax', use_bias=True)(F0)\n",
        "\n",
        "    self.model = Model(input, output)\n",
        "    self.model.compile(optimizer=\"adam\", loss = 'categorical_crossentropy', metrics=['accuracy'])\n",
        "  \n",
        "  # Train the model\n",
        "  def train(self, x_train, y_train, x_val, y_val): # x_train chinh la X, y_train chinh la ground-truthewedsdAQ  a QA\n",
        "    self.model.fit(x_train, y_train, validation_data = (x_val, y_val), epochs = 50, batch_size = 128)\n",
        "  \n",
        "  # Load model from file\n",
        "  def load(self, model_file):\n",
        "    self.model = load_model(model_file)\n",
        "  \n",
        "  # save the trained model\n",
        "  def save(self, model_file):\n",
        "    self.model.save(model_file)\n",
        "  \n",
        "  # Show the architecture of the model\n",
        "  def summary(self):\n",
        "    self.model.summary()\n",
        "\n",
        "  # Test the model with a given input\n",
        "  def predict(self, x_test):\n",
        "    return self.model.predict(x_test)"
      ],
      "metadata": {
        "id": "R3Yj_qIwq8q_"
      },
      "execution_count": 57,
      "outputs": []
    },
    {
      "cell_type": "code",
      "source": [
        "no_pooling = No_Pooling_CNN()\n",
        "no_pooling.build((28, 28, 1))\n",
        "no_pooling.summary()\n",
        "no_pooling.train(x_train_norm, y_train_oh, x_test_norm, y_test_oh)"
      ],
      "metadata": {
        "colab": {
          "base_uri": "https://localhost:8080/"
        },
        "id": "JQNkJfpXrjE8",
        "outputId": "9a91c3e4-8279-4e83-eb20-45ac5cecaed3"
      },
      "execution_count": 58,
      "outputs": [
        {
          "output_type": "stream",
          "name": "stdout",
          "text": [
            "Model: \"model_4\"\n",
            "__________________________________________________________________________________________________\n",
            " Layer (type)                   Output Shape         Param #     Connected to                     \n",
            "==================================================================================================\n",
            " input_5 (InputLayer)           [(None, 28, 28, 1)]  0           []                               \n",
            "                                                                                                  \n",
            " conv2d_18 (Conv2D)             (None, 28, 28, 8)    80          ['input_5[0][0]']                \n",
            "                                                                                                  \n",
            " conv2d_19 (Conv2D)             (None, 28, 28, 8)    584         ['conv2d_18[0][0]']              \n",
            "                                                                                                  \n",
            " conv2d_20 (Conv2D)             (None, 28, 28, 8)    584         ['conv2d_19[0][0]']              \n",
            "                                                                                                  \n",
            " add_7 (Add)                    (None, 28, 28, 8)    0           ['conv2d_20[0][0]']              \n",
            "                                                                                                  \n",
            " conv2d_21 (Conv2D)             (None, 14, 14, 16)   1168        ['add_7[0][0]']                  \n",
            "                                                                                                  \n",
            " conv2d_22 (Conv2D)             (None, 14, 14, 16)   2320        ['conv2d_21[0][0]']              \n",
            "                                                                                                  \n",
            " conv2d_23 (Conv2D)             (None, 14, 14, 16)   2320        ['conv2d_22[0][0]']              \n",
            "                                                                                                  \n",
            " add_8 (Add)                    (None, 14, 14, 16)   0           ['conv2d_23[0][0]',              \n",
            "                                                                  'conv2d_21[0][0]']              \n",
            "                                                                                                  \n",
            " flatten_4 (Flatten)            (None, 3136)         0           ['add_8[0][0]']                  \n",
            "                                                                                                  \n",
            " dense_8 (Dense)                (None, 400)          1254800     ['flatten_4[0][0]']              \n",
            "                                                                                                  \n",
            " dense_9 (Dense)                (None, 10)           4010        ['dense_8[0][0]']                \n",
            "                                                                                                  \n",
            "==================================================================================================\n",
            "Total params: 1,265,866\n",
            "Trainable params: 1,265,866\n",
            "Non-trainable params: 0\n",
            "__________________________________________________________________________________________________\n",
            "Epoch 1/50\n",
            "469/469 [==============================] - 5s 8ms/step - loss: 0.1868 - accuracy: 0.9434 - val_loss: 0.0628 - val_accuracy: 0.9795\n",
            "Epoch 2/50\n",
            "469/469 [==============================] - 4s 8ms/step - loss: 0.0603 - accuracy: 0.9821 - val_loss: 0.0416 - val_accuracy: 0.9859\n",
            "Epoch 3/50\n",
            "469/469 [==============================] - 3s 7ms/step - loss: 0.0427 - accuracy: 0.9871 - val_loss: 0.0430 - val_accuracy: 0.9850\n",
            "Epoch 4/50\n",
            "469/469 [==============================] - 4s 8ms/step - loss: 0.0331 - accuracy: 0.9895 - val_loss: 0.0388 - val_accuracy: 0.9871\n",
            "Epoch 5/50\n",
            "469/469 [==============================] - 3s 7ms/step - loss: 0.0277 - accuracy: 0.9912 - val_loss: 0.0351 - val_accuracy: 0.9881\n",
            "Epoch 6/50\n",
            "469/469 [==============================] - 3s 7ms/step - loss: 0.0232 - accuracy: 0.9921 - val_loss: 0.0399 - val_accuracy: 0.9880\n",
            "Epoch 7/50\n",
            "469/469 [==============================] - 3s 7ms/step - loss: 0.0187 - accuracy: 0.9937 - val_loss: 0.0422 - val_accuracy: 0.9870\n",
            "Epoch 8/50\n",
            "469/469 [==============================] - 3s 7ms/step - loss: 0.0183 - accuracy: 0.9940 - val_loss: 0.0381 - val_accuracy: 0.9880\n",
            "Epoch 9/50\n",
            "469/469 [==============================] - 3s 7ms/step - loss: 0.0161 - accuracy: 0.9944 - val_loss: 0.0522 - val_accuracy: 0.9845\n",
            "Epoch 10/50\n",
            "469/469 [==============================] - 4s 8ms/step - loss: 0.0137 - accuracy: 0.9955 - val_loss: 0.0405 - val_accuracy: 0.9870\n",
            "Epoch 11/50\n",
            "469/469 [==============================] - 3s 7ms/step - loss: 0.0132 - accuracy: 0.9958 - val_loss: 0.0434 - val_accuracy: 0.9881\n",
            "Epoch 12/50\n",
            "469/469 [==============================] - 3s 7ms/step - loss: 0.0117 - accuracy: 0.9959 - val_loss: 0.0426 - val_accuracy: 0.9880\n",
            "Epoch 13/50\n",
            "469/469 [==============================] - 3s 7ms/step - loss: 0.0102 - accuracy: 0.9964 - val_loss: 0.0470 - val_accuracy: 0.9898\n",
            "Epoch 14/50\n",
            "469/469 [==============================] - 5s 10ms/step - loss: 0.0089 - accuracy: 0.9972 - val_loss: 0.0721 - val_accuracy: 0.9827\n",
            "Epoch 15/50\n",
            "469/469 [==============================] - 3s 7ms/step - loss: 0.0108 - accuracy: 0.9965 - val_loss: 0.0564 - val_accuracy: 0.9854\n",
            "Epoch 16/50\n",
            "469/469 [==============================] - 3s 7ms/step - loss: 0.0081 - accuracy: 0.9975 - val_loss: 0.0501 - val_accuracy: 0.9877\n",
            "Epoch 17/50\n",
            "469/469 [==============================] - 3s 7ms/step - loss: 0.0077 - accuracy: 0.9974 - val_loss: 0.0568 - val_accuracy: 0.9890\n",
            "Epoch 18/50\n",
            "469/469 [==============================] - 4s 7ms/step - loss: 0.0078 - accuracy: 0.9974 - val_loss: 0.0494 - val_accuracy: 0.9889\n",
            "Epoch 19/50\n",
            "469/469 [==============================] - 3s 7ms/step - loss: 0.0089 - accuracy: 0.9971 - val_loss: 0.0499 - val_accuracy: 0.9886\n",
            "Epoch 20/50\n",
            "469/469 [==============================] - 4s 8ms/step - loss: 0.0064 - accuracy: 0.9979 - val_loss: 0.0664 - val_accuracy: 0.9882\n",
            "Epoch 21/50\n",
            "469/469 [==============================] - 4s 8ms/step - loss: 0.0090 - accuracy: 0.9971 - val_loss: 0.0564 - val_accuracy: 0.9889\n",
            "Epoch 22/50\n",
            "469/469 [==============================] - 3s 7ms/step - loss: 0.0056 - accuracy: 0.9981 - val_loss: 0.0547 - val_accuracy: 0.9889\n",
            "Epoch 23/50\n",
            "469/469 [==============================] - 3s 7ms/step - loss: 0.0065 - accuracy: 0.9979 - val_loss: 0.0645 - val_accuracy: 0.9877\n",
            "Epoch 24/50\n",
            "469/469 [==============================] - 3s 7ms/step - loss: 0.0075 - accuracy: 0.9975 - val_loss: 0.0707 - val_accuracy: 0.9862\n",
            "Epoch 25/50\n",
            "469/469 [==============================] - 4s 8ms/step - loss: 0.0060 - accuracy: 0.9979 - val_loss: 0.0657 - val_accuracy: 0.9891\n",
            "Epoch 26/50\n",
            "469/469 [==============================] - 6s 14ms/step - loss: 0.0053 - accuracy: 0.9983 - val_loss: 0.0627 - val_accuracy: 0.9883\n",
            "Epoch 27/50\n",
            "469/469 [==============================] - 4s 9ms/step - loss: 0.0069 - accuracy: 0.9978 - val_loss: 0.0744 - val_accuracy: 0.9862\n",
            "Epoch 28/50\n",
            "469/469 [==============================] - 3s 7ms/step - loss: 0.0070 - accuracy: 0.9978 - val_loss: 0.0768 - val_accuracy: 0.9857\n",
            "Epoch 29/50\n",
            "469/469 [==============================] - 3s 7ms/step - loss: 0.0055 - accuracy: 0.9981 - val_loss: 0.0719 - val_accuracy: 0.9886\n",
            "Epoch 30/50\n",
            "469/469 [==============================] - 3s 7ms/step - loss: 0.0068 - accuracy: 0.9980 - val_loss: 0.0647 - val_accuracy: 0.9894\n",
            "Epoch 31/50\n",
            "469/469 [==============================] - 3s 7ms/step - loss: 0.0060 - accuracy: 0.9980 - val_loss: 0.0526 - val_accuracy: 0.9904\n",
            "Epoch 32/50\n",
            "469/469 [==============================] - 3s 7ms/step - loss: 0.0046 - accuracy: 0.9984 - val_loss: 0.0648 - val_accuracy: 0.9901\n",
            "Epoch 33/50\n",
            "469/469 [==============================] - 3s 7ms/step - loss: 0.0060 - accuracy: 0.9981 - val_loss: 0.0877 - val_accuracy: 0.9865\n",
            "Epoch 34/50\n",
            "469/469 [==============================] - 3s 7ms/step - loss: 0.0066 - accuracy: 0.9980 - val_loss: 0.0586 - val_accuracy: 0.9909\n",
            "Epoch 35/50\n",
            "469/469 [==============================] - 3s 7ms/step - loss: 0.0037 - accuracy: 0.9989 - val_loss: 0.0685 - val_accuracy: 0.9895\n",
            "Epoch 36/50\n",
            "469/469 [==============================] - 3s 7ms/step - loss: 0.0055 - accuracy: 0.9983 - val_loss: 0.0801 - val_accuracy: 0.9885\n",
            "Epoch 37/50\n",
            "469/469 [==============================] - 6s 12ms/step - loss: 0.0032 - accuracy: 0.9989 - val_loss: 0.0834 - val_accuracy: 0.9867\n",
            "Epoch 38/50\n",
            "469/469 [==============================] - 5s 11ms/step - loss: 0.0064 - accuracy: 0.9982 - val_loss: 0.0761 - val_accuracy: 0.9883\n",
            "Epoch 39/50\n",
            "469/469 [==============================] - 5s 10ms/step - loss: 0.0043 - accuracy: 0.9987 - val_loss: 0.0967 - val_accuracy: 0.9885\n",
            "Epoch 40/50\n",
            "469/469 [==============================] - 3s 7ms/step - loss: 0.0063 - accuracy: 0.9981 - val_loss: 0.0586 - val_accuracy: 0.9895\n",
            "Epoch 41/50\n",
            "469/469 [==============================] - 3s 7ms/step - loss: 0.0048 - accuracy: 0.9985 - val_loss: 0.0770 - val_accuracy: 0.9867\n",
            "Epoch 42/50\n",
            "469/469 [==============================] - 3s 7ms/step - loss: 0.0066 - accuracy: 0.9982 - val_loss: 0.0799 - val_accuracy: 0.9875\n",
            "Epoch 43/50\n",
            "469/469 [==============================] - 3s 7ms/step - loss: 0.0040 - accuracy: 0.9987 - val_loss: 0.0854 - val_accuracy: 0.9897\n",
            "Epoch 44/50\n",
            "469/469 [==============================] - 3s 7ms/step - loss: 0.0051 - accuracy: 0.9983 - val_loss: 0.0741 - val_accuracy: 0.9883\n",
            "Epoch 45/50\n",
            "469/469 [==============================] - 3s 7ms/step - loss: 0.0056 - accuracy: 0.9985 - val_loss: 0.0858 - val_accuracy: 0.9869\n",
            "Epoch 46/50\n",
            "469/469 [==============================] - 3s 7ms/step - loss: 0.0065 - accuracy: 0.9980 - val_loss: 0.0663 - val_accuracy: 0.9889\n",
            "Epoch 47/50\n",
            "469/469 [==============================] - 3s 7ms/step - loss: 0.0044 - accuracy: 0.9987 - val_loss: 0.0869 - val_accuracy: 0.9883\n",
            "Epoch 48/50\n",
            "469/469 [==============================] - 4s 8ms/step - loss: 0.0046 - accuracy: 0.9988 - val_loss: 0.1166 - val_accuracy: 0.9863\n",
            "Epoch 49/50\n",
            "469/469 [==============================] - 3s 7ms/step - loss: 0.0052 - accuracy: 0.9985 - val_loss: 0.0578 - val_accuracy: 0.9904\n",
            "Epoch 50/50\n",
            "469/469 [==============================] - 3s 7ms/step - loss: 0.0013 - accuracy: 0.9996 - val_loss: 0.0869 - val_accuracy: 0.9897\n"
          ]
        }
      ]
    },
    {
      "cell_type": "code",
      "source": [
        "#Predict\n",
        "y_prediction = no_pooling.predict(x_test)\n",
        "rounded_labels=np.argmax(y_prediction, axis=1)\n",
        "result = confusion_matrix(y_test, rounded_labels)"
      ],
      "metadata": {
        "colab": {
          "base_uri": "https://localhost:8080/"
        },
        "id": "EZnYAXfdsrWb",
        "outputId": "d0245477-da03-4991-d03f-70beb9022550"
      },
      "execution_count": 67,
      "outputs": [
        {
          "output_type": "stream",
          "name": "stdout",
          "text": [
            "313/313 [==============================] - 1s 2ms/step\n"
          ]
        }
      ]
    },
    {
      "cell_type": "code",
      "source": [
        "plt.figure(figsize = (10,7))\n",
        "sns.heatmap(result, annot=True)\n",
        "plt.show()"
      ],
      "metadata": {
        "colab": {
          "base_uri": "https://localhost:8080/",
          "height": 428
        },
        "id": "8YRmW85us5jb",
        "outputId": "016415a2-742f-4268-c6d6-64080fea2e42"
      },
      "execution_count": 68,
      "outputs": [
        {
          "output_type": "display_data",
          "data": {
            "text/plain": [
              "<Figure size 720x504 with 2 Axes>"
            ],
            "image/png": "[encoded data removed]"
          },
          "metadata": {
            "needs_background": "light"
          }
        }
      ]
    },
    {
      "cell_type": "code",
      "source": [
        "f1 = f1_score(y_test, rounded_labels,average=None)\n",
        "f1"
      ],
      "metadata": {
        "colab": {
          "base_uri": "https://localhost:8080/"
        },
        "id": "4BJ4WesctRFL",
        "outputId": "f230a11e-f0d0-45e7-da3d-a56221bb604a"
      },
      "execution_count": 69,
      "outputs": [
        {
          "output_type": "execute_result",
          "data": {
            "text/plain": [
              "array([0.99184506, 0.98801598, 0.98185291, 0.98231827, 0.98399587,\n",
              "       0.98423423, 0.98590078, 0.97823937, 0.98174442, 0.97884899])"
            ]
          },
          "metadata": {},
          "execution_count": 69
        }
      ]
    },
    {
      "cell_type": "markdown",
      "source": [
        "# Danh gia"
      ],
      "metadata": {
        "id": "dlKSVWh4sgtK"
      }
    },
    {
      "cell_type": "markdown",
      "source": [
        "\n",
        "\n",
        "*   Không có Conv F1 score:\n",
        "\n",
        "[0.9296606 , 0.00176056, 0.69068323, 0.78388677, 0.78107944,\n",
        "       0.05452563, 0.90391841, 0.74652148, 0.35693215, 0.66666667]\n",
        "       => Performance vô cùng thấp dù khi train (loss: 0.3763 - accuracy: 0.8857 - val_loss: 0.3652 - val_accuracy: 0.8898) kết quả khá tốt. một số class hầu như không được predict và nhầm hẳn sang class khác\n",
        "*   No pooling F1 Score: [0.99184506, 0.98801598, 0.98185291, 0.98231827, 0.98399587, 0.98423423, 0.98590078, 0.97823937, 0.98174442, 0.97884899] Performace ~ 98% đều đưa ra đúng kết quả.\n",
        "\n",
        "*   Không có activation Function: F1 score [0.9171695 , 0.        , 0.43754731, 0.75259875, 0.86222732, 0.13778706, 0.94130554, 0.34059726, 0.31976362, 0.67936181] \n",
        "\n",
        "=> performance tệ nhất, và các class như 1, 2\n",
        ", 5, 7, 9 hầu như không thế phân loại đúng\n",
        "\n"
      ],
      "metadata": {
        "id": "Cgnty5G5up8L"
      }
    }
  ]
}